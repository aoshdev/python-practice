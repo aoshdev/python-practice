{
 "cells": [
  {
   "cell_type": "code",
   "execution_count": 25,
   "metadata": {},
   "outputs": [
    {
     "data": {
      "text/plain": [
       "4"
      ]
     },
     "execution_count": 25,
     "metadata": {},
     "output_type": "execute_result"
    }
   ],
   "source": [
    "# Sum of Digits / Digital Root\n",
    "def digital_root(n):\n",
    "       \n",
    "    while n >= 10:\n",
    "        n = sum([int(i) for i in str(n)])\n",
    "    return n\n",
    "    \n",
    "digital_root(7987441)\n",
    "\n",
    "\n",
    "def digital_root(n):\n",
    "    return n if n < 10 else digital_root(sum(map(int,str(n))))"
   ]
  },
  {
   "cell_type": "code",
   "execution_count": 53,
   "metadata": {},
   "outputs": [
    {
     "data": {
      "text/plain": [
       "12"
      ]
     },
     "execution_count": 53,
     "metadata": {},
     "output_type": "execute_result"
    }
   ],
   "source": [
    "# Find The Parity Outlier\n",
    "\n",
    "def find_outlier(n):\n",
    "    \n",
    "    a = 0\n",
    "    for i in n[:3]:\n",
    "        a += i%2\n",
    "        \n",
    "    mod = [i%2 for i in n]\n",
    "    \n",
    "    if a <= 1: # there is 1 odd number in list\n",
    "        \n",
    "        # get position\n",
    "        odd_position = sum([i for i,x in enumerate(mod) if x == 1])\n",
    "        \n",
    "        return n[odd_position]\n",
    "    else:\n",
    "        \n",
    "        # get position\n",
    "        even_position = sum([i for i,x in enumerate(mod) if x == 0])\n",
    "\n",
    "        return n[even_position]\n",
    "        \n",
    "        \n",
    "find_outlier([1,7,3,12,3,7])\n",
    "\n",
    "# Writes odd and even numbers into 2 separate lists.\n",
    "def find_outlier(int):\n",
    "    odds = [x for x in int if x%2!=0]\n",
    "    evens= [x for x in int if x%2==0]\n",
    "    return odds[0] if len(odds)<len(evens) else evens[0]\n",
    "\n",
    "\n",
    "# Uses index function to look up odd/even number conditional on sum of remainders.\n",
    "def find_outlier(integers):\n",
    "    parity = [n % 2 for n in integers]\n",
    "    return integers[parity.index(1)] if sum(parity) == 1 else integers[parity.index(0)]"
   ]
  },
  {
   "cell_type": "code",
   "execution_count": 102,
   "metadata": {},
   "outputs": [
    {
     "data": {
      "text/plain": [
       "0"
      ]
     },
     "execution_count": 102,
     "metadata": {},
     "output_type": "execute_result"
    }
   ],
   "source": [
    "# Persistent Bugger. (30 mins)\n",
    "import numpy\n",
    "\n",
    "def persistence(n):\n",
    "    if n < 10:\n",
    "        i = 0\n",
    "    else: \n",
    "        ans = numpy.prod([int(i) for i in str(n)])\n",
    "        i = 1\n",
    "        while ans > 9:\n",
    "            ans = numpy.prod([int(i) for i in str(ans)])\n",
    "            i += 1\n",
    "    \n",
    "    return i\n",
    "    \n",
    "    \n",
    "persistence(4)\n",
    "\n",
    "def persistence(n):\n",
    "    n = str(n)\n",
    "    count = 0\n",
    "    while len(n) > 1:\n",
    "        p = 1\n",
    "        for i in n:\n",
    "            p *= int(i)\n",
    "        n = str(p)\n",
    "        count += 1\n",
    "    return countb"
   ]
  },
  {
   "cell_type": "code",
   "execution_count": 120,
   "metadata": {},
   "outputs": [
    {
     "data": {
      "text/plain": [
       "51.0"
      ]
     },
     "execution_count": 120,
     "metadata": {},
     "output_type": "execute_result"
    }
   ],
   "source": [
    "# Playing with digits (15 mins)\n",
    "\n",
    "def dig_pow(n, p):\n",
    "\n",
    "    total = 0\n",
    "    z = 0\n",
    "    \n",
    "    for i in str(n):\n",
    "        total += int(i)**(p+z)\n",
    "        \n",
    "        z += 1\n",
    "        \n",
    "    k = total/n\n",
    "    \n",
    "    if total%n == 0:\n",
    "        return int(k)\n",
    "    else:\n",
    "        return -1\n",
    "\n",
    "    # return int(total/n) if total%n == 0 else -1\n",
    "    \n",
    "    \n",
    "dig_pow(46288,3)\n",
    "\n",
    "\n",
    "def dig_pow(n, p):\n",
    "  s = 0\n",
    "  for i,c in enumerate(str(n)):\n",
    "     s += pow(int(c),p+i)    # instead of defining another variable to iterate, use position\n",
    "  return s/n if s%n==0 else -1"
   ]
  },
  {
   "cell_type": "code",
   "execution_count": 148,
   "metadata": {},
   "outputs": [
    {
     "data": {
      "text/plain": [
       "'(123) 456-7890'"
      ]
     },
     "execution_count": 148,
     "metadata": {},
     "output_type": "execute_result"
    }
   ],
   "source": [
    "# Create Phone Number (15 mins)\n",
    "\n",
    "def join(num):\n",
    "    return ''.join([str(i) for i in num])\n",
    "\n",
    "def create_phone_number(n):\n",
    "    \n",
    "    x = join(n[0:3])\n",
    "        \n",
    "    return '(' + join(n[0:3]) + ') ' + join(n[3:6]) + '-' + join(n[6:10])\n",
    "\n",
    "create_phone_number([1, 2, 3, 4, 5, 6, 7, 8, 9, 0])\n",
    "\n",
    "\n",
    "\n",
    "def create_phone_number(n):\n",
    "    return \"({}{}{}) {}{}{}-{}{}{}{}\".format(*n)"
   ]
  },
  {
   "cell_type": "code",
   "execution_count": 170,
   "metadata": {},
   "outputs": [
    {
     "data": {
      "text/plain": [
       "'70000 + 300 + 4'"
      ]
     },
     "execution_count": 170,
     "metadata": {},
     "output_type": "execute_result"
    }
   ],
   "source": [
    "# Write Number in Expanded Form (8 minutes)\n",
    "\n",
    "def expanded_form(num):\n",
    "    \n",
    "    start = len(str(num)) - 1\n",
    "    ans = ''\n",
    "    \n",
    "    for i in str(num):\n",
    "        if int(i) != 0:\n",
    "            digits = i + '0'*start\n",
    "            ans = ans + ' + ' + digits\n",
    "        \n",
    "        start += -1\n",
    "    \n",
    "    ans = ans[3:]\n",
    "    \n",
    "    return ans\n",
    "        \n",
    "expanded_form(70304)\n",
    "\n",
    "\n",
    "def expanded_form(num):\n",
    "    num = list(str(num))\n",
    "    return ' + '.join(x + '0' * (len(num) - y - 1) for y,x in enumerate(num) if x != '0')"
   ]
  },
  {
   "cell_type": "code",
   "execution_count": 202,
   "metadata": {
    "scrolled": true
   },
   "outputs": [
    {
     "data": {
      "text/plain": [
       "[1, 1]"
      ]
     },
     "execution_count": 202,
     "metadata": {},
     "output_type": "execute_result"
    }
   ],
   "source": [
    "# Tribonacci Sequence (12 minutes)\n",
    "def tribonacci(signature, n):\n",
    "    if n <= 3:\n",
    "        return signature[:n]\n",
    "    if n != 0:\n",
    "        k = 3    \n",
    "        while k < n:\n",
    "            signature.append(sum(signature[-3:]))\n",
    "            k += 1            \n",
    "        return signature\n",
    "    else:\n",
    "        return []\n",
    "\n",
    "tribonacci([1,1,1],2)\n",
    "\n",
    "\n",
    "def tribonacci(signature,n):\n",
    "    while len(signature) < n:\n",
    "        signature.append(sum(signature[-3:]))\n",
    "    \n",
    "    return signature[:n]"
   ]
  },
  {
   "cell_type": "code",
   "execution_count": 213,
   "metadata": {},
   "outputs": [
    {
     "data": {
      "text/plain": [
       "2"
      ]
     },
     "execution_count": 213,
     "metadata": {},
     "output_type": "execute_result"
    }
   ],
   "source": [
    "# Counting Duplicates (16 mins)\n",
    "\n",
    "def duplicate_count(text):    \n",
    "    d = {}\n",
    "    \n",
    "    for i in text.lower():\n",
    "        if i not in d:\n",
    "            d[i] = 0\n",
    "        d[i] += 1\n",
    "        \n",
    "    d2 = {key:value for (key,value) in d.items() if value > 1}\n",
    "\n",
    "    return len(d2)\n",
    "        \n",
    "duplicate_count('aabbcde')\n",
    "\n",
    "\n",
    "def duplicate_count(s):\n",
    "  return len([c for c in set(s.lower()) if s.lower().count(c)>1])"
   ]
  },
  {
   "cell_type": "code",
   "execution_count": 247,
   "metadata": {},
   "outputs": [
    {
     "data": {
      "text/plain": [
       "False"
      ]
     },
     "execution_count": 247,
     "metadata": {},
     "output_type": "execute_result"
    }
   ],
   "source": [
    "# Take a Ten Minute Walk (12 mins)\n",
    "\n",
    "def is_valid_walk(walk):\n",
    "    \n",
    "    d = {'n':1, 's':-1, 'e':10, 'w':-10}\n",
    "    blank = []\n",
    "    \n",
    "    return True if (len(walk) == 10) & (sum([d[i] for i in walk]) == 0) else False\n",
    "    \n",
    "is_valid_walk(['n', 's', 'e', 'w', 'n', 's', 'e', 's', 'n', 's'])\n",
    "\n",
    "\n",
    "def isValidWalk(walk):\n",
    "    return len(walk) == 10 and walk.count('n') == walk.count('s') and 1`walk.count('e') == walk.count('w')"
   ]
  },
  {
   "cell_type": "code",
   "execution_count": 275,
   "metadata": {},
   "outputs": [
    {
     "data": {
      "text/plain": [
       "'))))))'"
      ]
     },
     "execution_count": 275,
     "metadata": {},
     "output_type": "execute_result"
    }
   ],
   "source": [
    "# Duplicate Encoder (11 mins)\n",
    "\n",
    "def duplicate_encode(word):\n",
    "    \n",
    "    return ''.join([')' if word.lower().count(i.lower()) > 1 else '(' for i in word])\n",
    "    \n",
    "    \n",
    "            \n",
    "duplicate_encode('aAaAbB')"
   ]
  },
  {
   "cell_type": "code",
   "execution_count": null,
   "metadata": {},
   "outputs": [],
   "source": [
    "# 6 kyu: Your order, please (25 mins)\n",
    "\n",
    "def order(sentence):\n",
    "    \n",
    "    vec = sentence.split()\n",
    "      \n",
    "    new_vec = []\n",
    "        \n",
    "    for i in range(1,len(vec)+1):\n",
    "        for j in vec:\n",
    "            \n",
    "            if str(i) in j:\n",
    "                new_vec.append(j)        \n",
    "            \n",
    "    return ' '.join(new_vec)"
   ]
  }
 ],
 "metadata": {
  "kernelspec": {
   "display_name": "Python 3",
   "language": "python",
   "name": "python3"
  },
  "language_info": {
   "codemirror_mode": {
    "name": "ipython",
    "version": 3
   },
   "file_extension": ".py",
   "mimetype": "text/x-python",
   "name": "python",
   "nbconvert_exporter": "python",
   "pygments_lexer": "ipython3",
   "version": "3.8.3"
  }
 },
 "nbformat": 4,
 "nbformat_minor": 4
}
