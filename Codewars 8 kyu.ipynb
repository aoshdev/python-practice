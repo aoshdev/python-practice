{
 "cells": [
  {
   "cell_type": "code",
   "execution_count": 3,
   "metadata": {},
   "outputs": [
    {
     "data": {
      "text/plain": [
       "-5"
      ]
     },
     "execution_count": 3,
     "metadata": {},
     "output_type": "execute_result"
    }
   ],
   "source": [
    "# Return Negative\n",
    "\n",
    "def make_negative(i):\n",
    "    return -abs(i)\n",
    "\n",
    "make_negative(5)\n",
    "make_negative(-1)"
   ]
  },
  {
   "cell_type": "code",
   "execution_count": 6,
   "metadata": {},
   "outputs": [
    {
     "data": {
      "text/plain": [
       "-1"
      ]
     },
     "execution_count": 6,
     "metadata": {},
     "output_type": "execute_result"
    }
   ],
   "source": [
    "# Find the smallest integer in the array\n",
    "\n",
    "def small_int(array):\n",
    "    return min(array)\n",
    "\n",
    "small_int([1,-1,3])"
   ]
  },
  {
   "cell_type": "code",
   "execution_count": 12,
   "metadata": {},
   "outputs": [
    {
     "data": {
      "text/plain": [
       "5050"
      ]
     },
     "execution_count": 12,
     "metadata": {},
     "output_type": "execute_result"
    }
   ],
   "source": [
    "# Grasshopper - Summation\n",
    "\n",
    "def summation(i):\n",
    "    num = []\n",
    "    counter = 1\n",
    "    while i >= counter:\n",
    "        num.append(counter)\n",
    "        counter = counter + 1\n",
    "    return sum(num)\n",
    "        \n",
    "summation(100)\n",
    "\n",
    "\n",
    "def summation(num):\n",
    "    return (1+num) * num / 2\n",
    "\n",
    "def summation(num):\n",
    "    return sum(range(1,num+1))"
   ]
  },
  {
   "cell_type": "code",
   "execution_count": 22,
   "metadata": {},
   "outputs": [
    {
     "data": {
      "text/plain": [
       "17"
      ]
     },
     "execution_count": 22,
     "metadata": {},
     "output_type": "execute_result"
    }
   ],
   "source": [
    "# Century From Year\n",
    "\n",
    "def centuryFromYear(i):\n",
    "    return int((i-1) / 100) + 1\n",
    "    \n",
    "centuryFromYear(1601)"
   ]
  },
  {
   "cell_type": "code",
   "execution_count": 26,
   "metadata": {},
   "outputs": [],
   "source": [
    "# Is n divisible by x and y?\n",
    "\n",
    "def is_divisible(n,x,y):\n",
    "    return (n%x == 0) & (n%y == 0)\n",
    "\n",
    "is_divisible(10,2,4)\n",
    "\n",
    "def is_divisible(n,x,y):\n",
    "    return n%x == 0 and n%y == 0"
   ]
  }
 ],
 "metadata": {
  "kernelspec": {
   "display_name": "Python 3",
   "language": "python",
   "name": "python3"
  },
  "language_info": {
   "codemirror_mode": {
    "name": "ipython",
    "version": 3
   },
   "file_extension": ".py",
   "mimetype": "text/x-python",
   "name": "python",
   "nbconvert_exporter": "python",
   "pygments_lexer": "ipython3",
   "version": "3.7.6"
  }
 },
 "nbformat": 4,
 "nbformat_minor": 4
}
