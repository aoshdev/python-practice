{
 "cells": [
  {
   "cell_type": "code",
   "execution_count": 27,
   "metadata": {},
   "outputs": [
    {
     "data": {
      "text/plain": [
       "'987'"
      ]
     },
     "execution_count": 27,
     "metadata": {},
     "output_type": "execute_result"
    }
   ],
   "source": [
    "# Descending Order\n",
    "\n",
    "def funct(num):\n",
    "    numString = str(num)\n",
    "    sortedList = sorted([digit for digit in numString]\n",
    "                      , reverse = True)\n",
    "    \n",
    "    sortedNum = ''\n",
    "    \n",
    "    for digit in sortedList:\n",
    "        sortedNum += digit\n",
    "    \n",
    "    return int(sortedNum)\n",
    "    \n",
    "    \n",
    "funct(789)\n",
    "\n",
    "\n",
    "# You can sort strings.b\n",
    "\n",
    "def Descending_Order(num):\n",
    "    return int(\"\".join(sorted(str(num), reverse=True)))"
   ]
  },
  {
   "cell_type": "code",
   "execution_count": 40,
   "metadata": {},
   "outputs": [],
   "source": [
    "# Disemvowel Trolls\n",
    "\n",
    "def disemvowel(string):\n",
    "    spam = ['a','e','i','o','u']\n",
    "    \n",
    "    for i in spam:\n",
    "        string = string.replace(i,'')\n",
    "        string = string.replace(i.upper(),'')\n",
    "\n",
    "        \n",
    "    return string\n",
    "\n",
    "disemvowel('looLLiPOP')\n",
    "\n",
    "\n",
    "def disemvowel(string):\n",
    "    return \"\".join(c for c in string if c.lower() not in \"aeiou\")"
   ]
  },
  {
   "cell_type": "code",
   "execution_count": 65,
   "metadata": {},
   "outputs": [
    {
     "data": {
      "text/plain": [
       "False"
      ]
     },
     "execution_count": 65,
     "metadata": {},
     "output_type": "execute_result"
    }
   ],
   "source": [
    "# You're a square!\n",
    "\n",
    "def is_square(n):\n",
    "    if n >= 0 and n**(1/2) % 1 == 0:\n",
    "        answer = True\n",
    "    else: \n",
    "        answer = False\n",
    "    return answer\n",
    "\n",
    "is_square(101)\n",
    "\n",
    "\n",
    "import math\n",
    "def is_square(n):\n",
    "    return n > -1 and math.sqrt(n) % 1 == 0;"
   ]
  },
  {
   "cell_type": "code",
   "execution_count": 77,
   "metadata": {},
   "outputs": [
    {
     "data": {
      "text/plain": [
       "64811"
      ]
     },
     "execution_count": 77,
     "metadata": {},
     "output_type": "execute_result"
    }
   ],
   "source": [
    "# Square Every Digit\n",
    "\n",
    "def square_digits(num):\n",
    "    string = [str(int(i)**2) for i in str(num)]\n",
    "    \n",
    "    answer = int(''.join(string))\n",
    "    \n",
    "    return answer\n",
    "\n",
    "square_digits(891)\n",
    "\n",
    "\n",
    "def square_digits(num):\n",
    "    return int(''.join(str(int(d)**2) for d in str(num)))"
   ]
  },
  {
   "cell_type": "code",
   "execution_count": 105,
   "metadata": {},
   "outputs": [
    {
     "data": {
      "text/plain": [
       "'TTAAGGCC'"
      ]
     },
     "execution_count": 105,
     "metadata": {},
     "output_type": "execute_result"
    }
   ],
   "source": [
    "# Complementary DNA\n",
    "\n",
    "# def DNA_strand(dna):\n",
    "#     pairs = {'A':'T', 'T':'A', 'C':'G','G':'C'}.items()\n",
    "    \n",
    "#     for initial, after in pairs:\n",
    "#         dna = dna.replace(initial, after)\n",
    "#         p\n",
    "    \n",
    "#     return dna\n",
    "\n",
    "\n",
    "def DNA_strand(dna):\n",
    "\n",
    "    dnaNew = ''\n",
    "    pair = ''\n",
    "    \n",
    "    for i in dna:\n",
    "        \n",
    "        if i == 'A':\n",
    "            pair = 'T'     \n",
    "        elif i == 'T':\n",
    "            pair ='A'\n",
    "        elif i == 'C':\n",
    "            pair = 'G'\n",
    "        elif i == 'G':\n",
    "            pair = 'C'\n",
    "        else:\n",
    "            pair = '0'\n",
    "        \n",
    "        dnaNew = dnaNew + pair\n",
    "        \n",
    "    return dnaNew\n",
    "        \n",
    "DNA_strand('AATTCCGG')\n",
    "\n",
    "\n",
    "pairs = {'A':'T','T':'A','C':'G','G':'C'}\n",
    "def DNA_strand(dna):\n",
    "    return ''.join([pairs[x] for x in dna])\n",
    "\n",
    "def DNA_strand(dna):\n",
    "    reference = { \"A\":\"T\",\n",
    "                  \"T\":\"A\",\n",
    "                  \"C\":\"G\",\n",
    "                  \"G\":\"C\"\n",
    "                  }\n",
    "    return \"\".join([reference[x] for x in dna])"
   ]
  },
  {
   "cell_type": "code",
   "execution_count": 108,
   "metadata": {},
   "outputs": [
    {
     "data": {
      "text/plain": [
       "'TTAAGGCC'"
      ]
     },
     "execution_count": 108,
     "metadata": {},
     "output_type": "execute_result"
    }
   ],
   "source": [
    "pairs = {'A':'T','T':'A','C':'G','G':'C'}\n",
    "\n",
    "def dna(string):\n",
    "    dnaNew = ''    \n",
    "    for i in string:\n",
    "        new = pairs[i]\n",
    "        dnaNew = dnaNew + new\n",
    "    return dnaNewb\n",
    "        \n",
    "        \n",
    "dna('AATTCCGG')    "
   ]
  }
 ],
 "metadata": {
  "kernelspec": {
   "display_name": "Python 3",
   "language": "python",
   "name": "python3"
  },
  "language_info": {
   "codemirror_mode": {
    "name": "ipython",
    "version": 3
   },
   "file_extension": ".py",
   "mimetype": "text/x-python",
   "name": "python",
   "nbconvert_exporter": "python",
   "pygments_lexer": "ipython3",
   "version": "3.7.6"
  }
 },
 "nbformat": 4,
 "nbformat_minor": 4
}
